{
 "cells": [
  {
   "cell_type": "markdown",
   "metadata": {},
   "source": [
    "# Projeto 1 - Ciência dos Dados -- Esse notebook SUJO mostra a minha tentativa de plotar os gráficos sem função.\n",
    "\n",
    "#### Feito por: Gabriel Kabbani"
   ]
  },
  {
   "cell_type": "markdown",
   "metadata": {},
   "source": [
    "# Motivação: \n",
    "\n",
    "O projeto é inspirado pela verificação dos objetivos econômicos da União Européia. Em seus objetivos, constam os seguintes: \n",
    "\n",
    "1. Desenvolvimento sustentável baseado no crescimento econômico equilibrado e na estabilidade de preços, uma economia de mercado altamente competitiva com pleno emprego e progresso social, e proteção ambiental.\n",
    "\n",
    "2. Reforçar a coesão económica, social e territorial e a solidariedade entre os países da UE.\n",
    "\n",
    "Dessa forma, é interessante verificar até que ponto a suposta \"coesão econômica\" e o \"crescimento econômico equilibrado\" de fato fazem um impacto na economia. Para isso, esse projeto será destinado à comparação de índices econômicos entre os países que participam da União Européia e aqueles que não fazem parte."
   ]
  },
  {
   "cell_type": "markdown",
   "metadata": {},
   "source": [
    "# Pergunta:\n",
    "\n",
    "Com relação à totalidade dos países no mundo, com ênfase nos europeus, existe uma vantagem econômica por estar na União Européia, considerando PIB, exportações, e investimento estrangeiro?"
   ]
  },
  {
   "cell_type": "markdown",
   "metadata": {},
   "source": [
    "# Bases de dado utilizadas:\n",
    "\n",
    "Bases de dado do gapminder utilizadas:\n",
    "1. Foreign Direct Investment Net Inflows as Percent of GDP.\n",
    "2. Exports as Percent of GDP.\n",
    "3. GDP Per Capita US Inflation Adjusted.\n",
    "4. HDI Human Development Index.\n",
    "\n",
    "Todas podem ser encontradas no seguinte link: https://www.gapminder.org/data/"
   ]
  },
  {
   "cell_type": "markdown",
   "metadata": {},
   "source": [
    "# Hipótese e Mecanismo:\n",
    "\n",
    "Considerando os objetivos mencionados acima, pode se dizer que o participar da União Européia, o comércio com os outros países participantes é bastante facilitado, algo que não somente aumenta os mercados consumidores, mas que também estimula a economia local e os investimentos estrangeiros nela, fazendo com que o PIB e a quantidade de exportações sejam maiores. Essa hipótese foi em parte fundamentada por pesquisas que exploram os benefícios da União Européia, como a disponível no site 'econ.economicshelp.org', referenciada no final do projeto. \n",
    "\n",
    "Para responder a pergunta e verificar a hipótese acima, vou analisar os anos 2010, 2014, e 2017 de todos os países cujos dados estão disponíveis, para ter uma análise geral referente à esta última década, começando após a crise de 2008, para mostrar o impacto da união ao longo do tempo, mesmo em períodos de recuperação, mas sem ter os dados possívelmente influenciados de maneira considerável pela crise, algo que poderia ter acontecido caso anos anteriores fossem escolhidos. Vale ressaltar que o foco da análise é a tendência de cada índice durante a década de 2010, especialmente no início (que mostra o período depois da crise), e devido a isso foram utilizados somente estes anos, ao invés de todos os anos disponíveis, uma vez que eles já conseguem prover a noção necessária sobre o período. Ademais, para analisá-los, vou utilizar o PIB per capita (ajustado pela inflação americana ao longo dos anos), a quantidade de investimento estrangeiro sendo alocado no país, como porcentagem do PIB, e as o capital decorrido de exportações, também como porcentagem do PIB. Estes indicadores possibilitam diversar análises sobre a situação econômica do país, sendo ótimas ferramentas responder a pergunta acima.\n",
    "\n",
    "Mais especificamente, os indicadores serão utilizados para comparar a variação entre os três grupos de países (que pertencem à União Européia, que são europeus mas não pertencem, e os países não europeus) ao decorrer dos anos escolhidos. Assim, poderei investigar a inclinação com qual cresce os indicadores de cada grupo, para ver as diferenças no desenvolvimento econômico médio entre eles. Além disso, poderei investigar como cada observação pode ou não ser resultado do pertencimento à união, e se o crescimento ocorre somente nos países mais desenvolvidos. Para isso, utilizarei o Índice de Desenvolvimento Humano, adicionando uma outra camada de análises, para ter certeza de que um eventual crescimento ocorre devido à União Européia, e não somente pelo país ser mais desenvolvido. Infelizmente, só estão disponíveis os dados de IDH até 2015 (a partir disso somente poucos países podem ser facilmente integrados, algo que comprometeria a análise), então essa análise com relação ao desenvolvimento será limitada aos anos de 2010 e 2014. "
   ]
  },
  {
   "cell_type": "markdown",
   "metadata": {},
   "source": [
    "# Montagem do database:"
   ]
  },
  {
   "cell_type": "code",
   "execution_count": 2,
   "metadata": {},
   "outputs": [],
   "source": [
    "import pandas as pd\n",
    "import numpy as np\n",
    "import matplotlib.pyplot as plt\n",
    "%matplotlib inline"
   ]
  },
  {
   "cell_type": "code",
   "execution_count": 3,
   "metadata": {},
   "outputs": [
    {
     "name": "stdout",
     "output_type": "stream",
     "text": [
      "/Users/Kabbani/Desktop/Insper/Ciência dos Dados/P1/P1_GIT/Projeto-1-CD-Gabriel-Kabbani-\n"
     ]
    }
   ],
   "source": [
    "import os\n",
    "print (os.getcwd())"
   ]
  },
  {
   "cell_type": "code",
   "execution_count": 4,
   "metadata": {},
   "outputs": [],
   "source": [
    "dados_export = pd.read_excel('exports_percent_of_gdp.xlsx')\n",
    "dados_gdp = pd.read_excel('gdppercapita_us_inflation_adjusted.xlsx')\n",
    "dados_fdi = pd.read_excel('foreign_direct_investment_net_inflows_percent_of_gdp.xlsx')\n",
    "dados_idh= pd.read_excel('hdi_human_development_index.xlsx')"
   ]
  },
  {
   "cell_type": "code",
   "execution_count": 5,
   "metadata": {},
   "outputs": [],
   "source": [
    "dados_gdp.insert(1, \"EU\", 0)\n",
    "dados_gdp.loc[(dados_gdp.country == 'Albania') | (dados_gdp.country == 'Andorra') | (dados_gdp.country == 'Belarus') | (dados_gdp.country == 'Bosnia and Herzegovina') | (dados_gdp.country == 'Iceland') | (dados_gdp.country == 'Liechtenstein') | (dados_gdp.country == 'Macedonia') | (dados_gdp.country == 'Moldova') | (dados_gdp.country == 'Monaco') | (dados_gdp.country == 'Montenegro') | (dados_gdp.country == 'Norway')| (dados_gdp.country == 'Russia') | (dados_gdp.country == 'San Marino') | (dados_gdp.country == 'Serbia') | (dados_gdp.country == 'Switzerland') | (dados_gdp.country == 'Turkey') | (dados_gdp.country == 'Ukraine') , ['EU']]='1'\n",
    "dados_gdp.loc[(dados_gdp.country == 'Austria') | (dados_gdp.country == 'Belgium')| (dados_gdp.country == 'Bulgaria')| (dados_gdp.country == 'Croatia')| (dados_gdp.country == 'Cyprus')| (dados_gdp.country == 'Czech Republic') | (dados_gdp.country == 'Denmark') | (dados_gdp.country == 'Estonia') | (dados_gdp.country == 'Finland') | (dados_gdp.country == 'France') | (dados_gdp.country == 'Germany') | (dados_gdp.country == 'Greece') | (dados_gdp.country == 'Hungary') | (dados_gdp.country == 'Ireland') | (dados_gdp.country == 'Italy') | (dados_gdp.country == 'Latvia') | (dados_gdp.country == 'Lithuania') | (dados_gdp.country == 'Luxembourg') | (dados_gdp.country == 'Malta') | (dados_gdp.country == 'Netherlands') | (dados_gdp.country == 'Poland') | (dados_gdp.country == 'Portugal') | (dados_gdp.country == 'Romania') | (dados_gdp.country == 'Slovak Republic') | (dados_gdp.country == 'Slovenia') | (dados_gdp.country == 'Spain') | (dados_gdp.country == 'Sweden') | (dados_gdp.country == 'United Kingdom'),['EU']] = '2'\n",
    "dados_gdp.EU= dados_gdp.EU.astype('category')\n",
    "dados_gdp.EU.cat.categories=['Não-Europeu','Europeu-não-participante','Participante']"
   ]
  },
  {
   "cell_type": "code",
   "execution_count": 6,
   "metadata": {},
   "outputs": [],
   "source": [
    "gdp_2010_14_17 = dados_gdp.loc[:,['country',\"EU\",2010,2014,2017]]\n",
    "exp_2010_14_17 = dados_export.loc[:,['country',2010,2014,2017]]\n",
    "fdi_2010_14_17 = dados_fdi.loc[:,['country',2010,2014,2017]]\n",
    "idh_2010_13_15 = dados_idh.loc[:,['country',2010,2014]]"
   ]
  },
  {
   "cell_type": "code",
   "execution_count": 7,
   "metadata": {},
   "outputs": [],
   "source": [
    "gdp = gdp_2010_14_17.set_index('country')     #('GDP per capita inflation-adjusted')\n",
    "exp = exp_2010_14_17.set_index('country')     #('Exports as % of GDP')\n",
    "fdi = fdi_2010_14_17.set_index('country')     #('Foreign Direct Investment as % of GDP')\n",
    "idh = idh_2010_13_15.set_index('country')"
   ]
  },
  {
   "cell_type": "code",
   "execution_count": 8,
   "metadata": {},
   "outputs": [
    {
     "data": {
      "text/html": [
       "<div>\n",
       "<style scoped>\n",
       "    .dataframe tbody tr th:only-of-type {\n",
       "        vertical-align: middle;\n",
       "    }\n",
       "\n",
       "    .dataframe tbody tr th {\n",
       "        vertical-align: top;\n",
       "    }\n",
       "\n",
       "    .dataframe thead th {\n",
       "        text-align: right;\n",
       "    }\n",
       "</style>\n",
       "<table border=\"1\" class=\"dataframe\">\n",
       "  <thead>\n",
       "    <tr style=\"text-align: right;\">\n",
       "      <th></th>\n",
       "      <th>UE</th>\n",
       "      <th>2010_PIB</th>\n",
       "      <th>2014_PIB</th>\n",
       "      <th>2017_PIB</th>\n",
       "      <th>2010_Exports</th>\n",
       "      <th>2014_Exports</th>\n",
       "      <th>2017_Exports</th>\n",
       "      <th>2010_FDI</th>\n",
       "      <th>2014_FDI</th>\n",
       "      <th>2017_FDI</th>\n",
       "      <th>2010_IDH</th>\n",
       "      <th>2014_IDH</th>\n",
       "    </tr>\n",
       "    <tr>\n",
       "      <th>country</th>\n",
       "      <th></th>\n",
       "      <th></th>\n",
       "      <th></th>\n",
       "      <th></th>\n",
       "      <th></th>\n",
       "      <th></th>\n",
       "      <th></th>\n",
       "      <th></th>\n",
       "      <th></th>\n",
       "      <th></th>\n",
       "      <th></th>\n",
       "      <th></th>\n",
       "    </tr>\n",
       "  </thead>\n",
       "  <tbody>\n",
       "    <tr>\n",
       "      <th>Afghanistan</th>\n",
       "      <td>Não-Europeu</td>\n",
       "      <td>553</td>\n",
       "      <td>630.0</td>\n",
       "      <td>618.0</td>\n",
       "      <td>10.0</td>\n",
       "      <td>6.57</td>\n",
       "      <td>NaN</td>\n",
       "      <td>1.20</td>\n",
       "      <td>0.208</td>\n",
       "      <td>0.256</td>\n",
       "      <td>0.454</td>\n",
       "      <td>0.479</td>\n",
       "    </tr>\n",
       "    <tr>\n",
       "      <th>Albania</th>\n",
       "      <td>Europeu-não-participante</td>\n",
       "      <td>4090</td>\n",
       "      <td>4410.0</td>\n",
       "      <td>4870.0</td>\n",
       "      <td>28.0</td>\n",
       "      <td>28.20</td>\n",
       "      <td>31.5</td>\n",
       "      <td>9.14</td>\n",
       "      <td>8.690</td>\n",
       "      <td>7.840</td>\n",
       "      <td>0.738</td>\n",
       "      <td>0.762</td>\n",
       "    </tr>\n",
       "    <tr>\n",
       "      <th>Algeria</th>\n",
       "      <td>Não-Europeu</td>\n",
       "      <td>4460</td>\n",
       "      <td>4680.0</td>\n",
       "      <td>4830.0</td>\n",
       "      <td>38.4</td>\n",
       "      <td>30.20</td>\n",
       "      <td>24.0</td>\n",
       "      <td>1.43</td>\n",
       "      <td>0.703</td>\n",
       "      <td>0.705</td>\n",
       "      <td>0.724</td>\n",
       "      <td>0.743</td>\n",
       "    </tr>\n",
       "    <tr>\n",
       "      <th>Angola</th>\n",
       "      <td>Não-Europeu</td>\n",
       "      <td>3530</td>\n",
       "      <td>3750.0</td>\n",
       "      <td>3480.0</td>\n",
       "      <td>62.3</td>\n",
       "      <td>48.00</td>\n",
       "      <td>29.9</td>\n",
       "      <td>-3.91</td>\n",
       "      <td>1.520</td>\n",
       "      <td>-5.960</td>\n",
       "      <td>0.495</td>\n",
       "      <td>0.531</td>\n",
       "    </tr>\n",
       "    <tr>\n",
       "      <th>Antigua and Barbuda</th>\n",
       "      <td>Não-Europeu</td>\n",
       "      <td>12200</td>\n",
       "      <td>12400.0</td>\n",
       "      <td>13600.0</td>\n",
       "      <td>45.5</td>\n",
       "      <td>46.10</td>\n",
       "      <td>NaN</td>\n",
       "      <td>8.39</td>\n",
       "      <td>3.360</td>\n",
       "      <td>3.970</td>\n",
       "      <td>0.782</td>\n",
       "      <td>0.784</td>\n",
       "    </tr>\n",
       "  </tbody>\n",
       "</table>\n",
       "</div>"
      ],
      "text/plain": [
       "                                           UE  2010_PIB  2014_PIB  2017_PIB  \\\n",
       "country                                                                       \n",
       "Afghanistan                       Não-Europeu       553     630.0     618.0   \n",
       "Albania              Europeu-não-participante      4090    4410.0    4870.0   \n",
       "Algeria                           Não-Europeu      4460    4680.0    4830.0   \n",
       "Angola                            Não-Europeu      3530    3750.0    3480.0   \n",
       "Antigua and Barbuda               Não-Europeu     12200   12400.0   13600.0   \n",
       "\n",
       "                     2010_Exports  2014_Exports  2017_Exports  2010_FDI  \\\n",
       "country                                                                   \n",
       "Afghanistan                  10.0          6.57           NaN      1.20   \n",
       "Albania                      28.0         28.20          31.5      9.14   \n",
       "Algeria                      38.4         30.20          24.0      1.43   \n",
       "Angola                       62.3         48.00          29.9     -3.91   \n",
       "Antigua and Barbuda          45.5         46.10           NaN      8.39   \n",
       "\n",
       "                     2014_FDI  2017_FDI  2010_IDH  2014_IDH  \n",
       "country                                                      \n",
       "Afghanistan             0.208     0.256     0.454     0.479  \n",
       "Albania                 8.690     7.840     0.738     0.762  \n",
       "Algeria                 0.703     0.705     0.724     0.743  \n",
       "Angola                  1.520    -5.960     0.495     0.531  \n",
       "Antigua and Barbuda     3.360     3.970     0.782     0.784  "
      ]
     },
     "execution_count": 8,
     "metadata": {},
     "output_type": "execute_result"
    }
   ],
   "source": [
    "data = gdp.join(exp, how='inner', lsuffix='_PIB', rsuffix='_Exports')\n",
    "data = data.join(fdi,how='inner', rsuffix='_FDI')\n",
    "data.rename(columns={2010:\"2010_FDI\",2014:\"2014_FDI\",2017:\"2017_FDI\",\"EU\":\"UE\"}, inplace=True)\n",
    "data = data.join(idh,how='inner', rsuffix='_IDH')\n",
    "data.rename(columns={2010:\"2010_IDH\",2014:\"2014_IDH\"}, inplace=True)\n",
    "data.head()"
   ]
  },
  {
   "cell_type": "markdown",
   "metadata": {},
   "source": [
    "Como pode se evidenciar na célula abaixo, quatro países europeus não participantes estão faltando na tabela, devido à falta de dados, que comprometeria severamente a análise. Mesmo assim, a análise continua válida sem esses países pelo fato de ainda haverem vários outros para fornecer os dados necessários."
   ]
  },
  {
   "cell_type": "code",
   "execution_count": 9,
   "metadata": {},
   "outputs": [
    {
     "data": {
      "text/plain": [
       "Não-Europeu                 139\n",
       "Participante                 28\n",
       "Europeu-não-participante     12\n",
       "Name: UE, dtype: int64"
      ]
     },
     "execution_count": 9,
     "metadata": {},
     "output_type": "execute_result"
    }
   ],
   "source": [
    "data.UE.value_counts()"
   ]
  },
  {
   "cell_type": "markdown",
   "metadata": {},
   "source": [
    "# Análise dos Dados:"
   ]
  },
  {
   "cell_type": "code",
   "execution_count": 10,
   "metadata": {},
   "outputs": [
    {
     "data": {
      "text/html": [
       "<div>\n",
       "<style scoped>\n",
       "    .dataframe tbody tr th:only-of-type {\n",
       "        vertical-align: middle;\n",
       "    }\n",
       "\n",
       "    .dataframe tbody tr th {\n",
       "        vertical-align: top;\n",
       "    }\n",
       "\n",
       "    .dataframe thead th {\n",
       "        text-align: right;\n",
       "    }\n",
       "</style>\n",
       "<table border=\"1\" class=\"dataframe\">\n",
       "  <thead>\n",
       "    <tr style=\"text-align: right;\">\n",
       "      <th></th>\n",
       "      <th>2010_PIB</th>\n",
       "      <th>2014_PIB</th>\n",
       "      <th>2017_PIB</th>\n",
       "      <th>2010_Exports</th>\n",
       "      <th>2014_Exports</th>\n",
       "      <th>2017_Exports</th>\n",
       "      <th>2010_FDI</th>\n",
       "      <th>2014_FDI</th>\n",
       "      <th>2017_FDI</th>\n",
       "      <th>2010_IDH</th>\n",
       "      <th>2014_IDH</th>\n",
       "    </tr>\n",
       "  </thead>\n",
       "  <tbody>\n",
       "    <tr>\n",
       "      <th>count</th>\n",
       "      <td>179.000000</td>\n",
       "      <td>177.00000</td>\n",
       "      <td>175.000000</td>\n",
       "      <td>176.000000</td>\n",
       "      <td>176.000000</td>\n",
       "      <td>140.000000</td>\n",
       "      <td>179.000000</td>\n",
       "      <td>178.000000</td>\n",
       "      <td>174.000000</td>\n",
       "      <td>179.000000</td>\n",
       "      <td>179.000000</td>\n",
       "    </tr>\n",
       "    <tr>\n",
       "      <th>mean</th>\n",
       "      <td>12388.016760</td>\n",
       "      <td>13024.59322</td>\n",
       "      <td>13702.468571</td>\n",
       "      <td>40.872722</td>\n",
       "      <td>42.404375</td>\n",
       "      <td>41.720357</td>\n",
       "      <td>6.521645</td>\n",
       "      <td>4.357730</td>\n",
       "      <td>4.064777</td>\n",
       "      <td>0.677419</td>\n",
       "      <td>0.695547</td>\n",
       "    </tr>\n",
       "    <tr>\n",
       "      <th>std</th>\n",
       "      <td>17862.157767</td>\n",
       "      <td>18289.42942</td>\n",
       "      <td>19134.098953</td>\n",
       "      <td>26.815091</td>\n",
       "      <td>28.193350</td>\n",
       "      <td>28.934315</td>\n",
       "      <td>16.082814</td>\n",
       "      <td>5.711605</td>\n",
       "      <td>6.623986</td>\n",
       "      <td>0.158107</td>\n",
       "      <td>0.154734</td>\n",
       "    </tr>\n",
       "    <tr>\n",
       "      <th>min</th>\n",
       "      <td>231.000000</td>\n",
       "      <td>243.00000</td>\n",
       "      <td>213.000000</td>\n",
       "      <td>0.109000</td>\n",
       "      <td>1.830000</td>\n",
       "      <td>7.740000</td>\n",
       "      <td>-16.000000</td>\n",
       "      <td>-4.850000</td>\n",
       "      <td>-29.400000</td>\n",
       "      <td>0.323000</td>\n",
       "      <td>0.347000</td>\n",
       "    </tr>\n",
       "    <tr>\n",
       "      <th>25%</th>\n",
       "      <td>1340.000000</td>\n",
       "      <td>1650.00000</td>\n",
       "      <td>1895.000000</td>\n",
       "      <td>23.800000</td>\n",
       "      <td>25.275000</td>\n",
       "      <td>24.675000</td>\n",
       "      <td>1.420000</td>\n",
       "      <td>1.202500</td>\n",
       "      <td>1.392500</td>\n",
       "      <td>0.542500</td>\n",
       "      <td>0.575000</td>\n",
       "    </tr>\n",
       "    <tr>\n",
       "      <th>50%</th>\n",
       "      <td>4560.000000</td>\n",
       "      <td>5430.00000</td>\n",
       "      <td>5560.000000</td>\n",
       "      <td>35.300000</td>\n",
       "      <td>37.000000</td>\n",
       "      <td>35.450000</td>\n",
       "      <td>3.040000</td>\n",
       "      <td>2.790000</td>\n",
       "      <td>2.805000</td>\n",
       "      <td>0.710000</td>\n",
       "      <td>0.724000</td>\n",
       "    </tr>\n",
       "    <tr>\n",
       "      <th>75%</th>\n",
       "      <td>13300.000000</td>\n",
       "      <td>14700.00000</td>\n",
       "      <td>15700.000000</td>\n",
       "      <td>50.825000</td>\n",
       "      <td>50.875000</td>\n",
       "      <td>48.925000</td>\n",
       "      <td>6.055000</td>\n",
       "      <td>5.755000</td>\n",
       "      <td>5.390000</td>\n",
       "      <td>0.797500</td>\n",
       "      <td>0.804500</td>\n",
       "    </tr>\n",
       "    <tr>\n",
       "      <th>max</th>\n",
       "      <td>105000.000000</td>\n",
       "      <td>107000.00000</td>\n",
       "      <td>108000.000000</td>\n",
       "      <td>200.000000</td>\n",
       "      <td>208.000000</td>\n",
       "      <td>230.000000</td>\n",
       "      <td>160.000000</td>\n",
       "      <td>34.300000</td>\n",
       "      <td>48.600000</td>\n",
       "      <td>0.939000</td>\n",
       "      <td>0.948000</td>\n",
       "    </tr>\n",
       "  </tbody>\n",
       "</table>\n",
       "</div>"
      ],
      "text/plain": [
       "            2010_PIB      2014_PIB       2017_PIB  2010_Exports  2014_Exports  \\\n",
       "count     179.000000     177.00000     175.000000    176.000000    176.000000   \n",
       "mean    12388.016760   13024.59322   13702.468571     40.872722     42.404375   \n",
       "std     17862.157767   18289.42942   19134.098953     26.815091     28.193350   \n",
       "min       231.000000     243.00000     213.000000      0.109000      1.830000   \n",
       "25%      1340.000000    1650.00000    1895.000000     23.800000     25.275000   \n",
       "50%      4560.000000    5430.00000    5560.000000     35.300000     37.000000   \n",
       "75%     13300.000000   14700.00000   15700.000000     50.825000     50.875000   \n",
       "max    105000.000000  107000.00000  108000.000000    200.000000    208.000000   \n",
       "\n",
       "       2017_Exports    2010_FDI    2014_FDI    2017_FDI    2010_IDH  \\\n",
       "count    140.000000  179.000000  178.000000  174.000000  179.000000   \n",
       "mean      41.720357    6.521645    4.357730    4.064777    0.677419   \n",
       "std       28.934315   16.082814    5.711605    6.623986    0.158107   \n",
       "min        7.740000  -16.000000   -4.850000  -29.400000    0.323000   \n",
       "25%       24.675000    1.420000    1.202500    1.392500    0.542500   \n",
       "50%       35.450000    3.040000    2.790000    2.805000    0.710000   \n",
       "75%       48.925000    6.055000    5.755000    5.390000    0.797500   \n",
       "max      230.000000  160.000000   34.300000   48.600000    0.939000   \n",
       "\n",
       "         2014_IDH  \n",
       "count  179.000000  \n",
       "mean     0.695547  \n",
       "std      0.154734  \n",
       "min      0.347000  \n",
       "25%      0.575000  \n",
       "50%      0.724000  \n",
       "75%      0.804500  \n",
       "max      0.948000  "
      ]
     },
     "execution_count": 10,
     "metadata": {},
     "output_type": "execute_result"
    }
   ],
   "source": [
    "uniao= data[data.UE == 'Participante']\n",
    "euro= data[data.UE == 'Europeu-não-participante']\n",
    "ne= data[data.UE == 'Não-Europeu']\n",
    "\n",
    "\n",
    "data.describe()"
   ]
  },
  {
   "cell_type": "markdown",
   "metadata": {},
   "source": [
    "## PIB:"
   ]
  },
  {
   "cell_type": "code",
   "execution_count": 11,
   "metadata": {},
   "outputs": [
    {
     "data": {
      "image/png": "[encoded data removed]",
      "text/plain": [
       "<Figure size 1080x1080 with 9 Axes>"
      ]
     },
     "metadata": {
      "needs_background": "light"
     },
     "output_type": "display_data"
    }
   ],
   "source": [
    "faixa= range(213000000,108000000000,10) #nao consegui usar\n",
    "\n",
    "def verticalLine(plot, x, y, color, nome):\n",
    "    plot.axvline(x, color=color, linestyle=\"dashed\", linewidth=2)\n",
    "    plot.text(1.01*x, y, nome, color=color) \n",
    "\n",
    "fig = plt.figure(figsize=(15, 15))\n",
    "plt.subplot(331)\n",
    "plot = uniao['2010_PIB'].plot.hist(bins=5, title='UE: PIB 2010', alpha=0.9)\n",
    "plt.ylabel('Frequência Absoluta')\n",
    "plt.xlabel('PIB (ajustado à inflação) em USD')\n",
    "verticalLine(plot, uniao['2010_PIB'].mean(), 12, \"b\", \"Média\")\n",
    "verticalLine(plot, uniao['2010_PIB'].median(), 10, \"r\", \"Mediana\")\n",
    "\n",
    "plt.subplot(332)\n",
    "plot = uniao['2014_PIB'].plot.hist(bins=5, title='UE: PIB 2014', alpha=0.9)\n",
    "plt.ylabel('Frequência Absoluta')\n",
    "plt.xlabel('PIB (ajustado à inflação) em USD')\n",
    "verticalLine(plot, uniao['2014_PIB'].mean(), 12, \"b\", \"Média\")\n",
    "verticalLine(plot, uniao['2014_PIB'].median(), 10, \"r\", \"Mediana\")\n",
    "\n",
    "plt.subplot(333)\n",
    "plot = uniao['2017_PIB'].plot.hist(bins=5, title='UE: PIB 2017', alpha=0.9)\n",
    "plt.ylabel('Frequência Absoluta')\n",
    "plt.xlabel('PIB (ajustado à inflação) em USD')\n",
    "verticalLine(plot, uniao['2017_PIB'].mean(), 12, \"b\", \"Média\")\n",
    "verticalLine(plot, uniao['2017_PIB'].median(), 10, \"r\", \"Mediana\")\n",
    "\n",
    "plt.subplot(334)\n",
    "plot = euro['2010_PIB'].plot.hist(bins=5, title='Europeus não participantes: PIB 2010', alpha=0.9, color = 'g')\n",
    "plt.ylabel('Frequência Absoluta')\n",
    "plt.xlabel('PIB (ajustado à inflação) em USD')\n",
    "verticalLine(plot, euro['2010_PIB'].mean(), 8, \"b\", \"Média\")\n",
    "verticalLine(plot, euro['2010_PIB'].median(), 6, \"r\", \"Mediana\")\n",
    "\n",
    "plt.subplot(335)\n",
    "plot = euro['2014_PIB'].plot.hist(bins=5, title='Europeus não participantes: PIB 2014', alpha=0.9, color = 'g')\n",
    "plt.ylabel('Frequência Absoluta')\n",
    "plt.xlabel('PIB (ajustado à inflação) em USD')\n",
    "verticalLine(plot, euro['2014_PIB'].mean(), 8, \"b\", \"Média\")\n",
    "verticalLine(plot, euro['2014_PIB'].median(), 6, \"r\", \"Mediana\")\n",
    "\n",
    "plt.subplot(336)\n",
    "plot = euro['2017_PIB'].plot.hist(bins=5, title='Europeus não participantes: PIB 2017', alpha=0.9, color = 'g')\n",
    "plt.ylabel('Frequência Absoluta')\n",
    "plt.xlabel('PIB (ajustado à inflação) em USD')\n",
    "verticalLine(plot, euro['2017_PIB'].mean(), 8, \"b\", \"Média\")\n",
    "verticalLine(plot, euro['2017_PIB'].median(), 6, \"r\", \"Mediana\")\n",
    "\n",
    "plt.subplot(337)\n",
    "plot = ne['2010_PIB'].plot.hist(bins=5, title=' Não Europeus: PIB 2010', alpha=0.9, color='yellow')\n",
    "plt.ylabel('Frequência Absoluta')\n",
    "plt.xlabel('PIB (ajustado à inflação) em USD')\n",
    "verticalLine(plot, ne['2010_PIB'].mean(), 120, \"b\", \"Média\")\n",
    "verticalLine(plot, ne['2010_PIB'].median(), 100, \"r\", \"Mediana\")\n",
    "\n",
    "plt.subplot(338)\n",
    "plot = ne['2014_PIB'].plot.hist(bins=5, title=' Não Europeus: PIB 2014', alpha=0.9, color='yellow')\n",
    "plt.ylabel('Frequência Absoluta')\n",
    "plt.xlabel('PIB (ajustado à inflação) em USD')\n",
    "verticalLine(plot, ne['2010_PIB'].mean(), 110, \"b\", \"Média\")\n",
    "verticalLine(plot, ne['2010_PIB'].median(), 100, \"r\", \"Mediana\")\n",
    "\n",
    "plt.subplot(339)\n",
    "plot = ne['2017_PIB'].plot.hist(bins=5, title=' Não Europeus: PIB 2017', alpha=0.9, color='yellow')\n",
    "plt.ylabel('Frequência Absoluta')\n",
    "plt.xlabel('PIB (ajustado à inflação) em USD')\n",
    "verticalLine(plot, ne['2010_PIB'].mean(), 110, \"b\", \"Média\")\n",
    "verticalLine(plot, ne['2010_PIB'].median(), 100, \"r\", \"Mediana\")\n",
    "\n",
    "plt.show()"
   ]
  },
  {
   "cell_type": "markdown",
   "metadata": {},
   "source": [
    "# Conclusão:"
   ]
  },
  {
   "cell_type": "markdown",
   "metadata": {},
   "source": [
    "# Referências:\n",
    "\n",
    "https://econ.economicshelp.org/2007/03/benefits-of-european-union.html\n",
    "\n",
    "https://europa.eu/european-union/about-eu/eu-in-brief_en\n",
    "\n",
    "https://www.gapminder.org/data/"
   ]
  }
 ],
 "metadata": {
  "kernelspec": {
   "display_name": "Python 3",
   "language": "python",
   "name": "python3"
  },
  "language_info": {
   "codemirror_mode": {
    "name": "ipython",
    "version": 3
   },
   "file_extension": ".py",
   "mimetype": "text/x-python",
   "name": "python",
   "nbconvert_exporter": "python",
   "pygments_lexer": "ipython3",
   "version": "3.7.1"
  }
 },
 "nbformat": 4,
 "nbformat_minor": 2
}
